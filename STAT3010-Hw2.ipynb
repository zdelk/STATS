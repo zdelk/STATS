{
 "cells": [
  {
   "cell_type": "code",
   "execution_count": 10,
   "id": "08687e8f",
   "metadata": {},
   "outputs": [
    {
     "name": "stdout",
     "output_type": "stream",
     "text": [
      "Requirement already satisfied: numpy in c:\\users\\zmdel\\appdata\\local\\packages\\pythonsoftwarefoundation.python.3.9_qbz5n2kfra8p0\\localcache\\local-packages\\python39\\site-packages (1.21.2)\n"
     ]
    },
    {
     "name": "stderr",
     "output_type": "stream",
     "text": [
      "WARNING: You are using pip version 21.2.3; however, version 21.3.1 is available.\n",
      "You should consider upgrading via the 'C:\\Users\\zmdel\\AppData\\Local\\Microsoft\\WindowsApps\\PythonSoftwareFoundation.Python.3.9_qbz5n2kfra8p0\\python.exe -m pip install --upgrade pip' command.\n"
     ]
    }
   ],
   "source": [
    "#If you need to install a package\n",
    "!pip install numpy"
   ]
  },
  {
   "cell_type": "code",
   "execution_count": 2,
   "metadata": {},
   "outputs": [
    {
     "data": {
      "text/html": [
       "<div>\n",
       "<style scoped>\n",
       "    .dataframe tbody tr th:only-of-type {\n",
       "        vertical-align: middle;\n",
       "    }\n",
       "\n",
       "    .dataframe tbody tr th {\n",
       "        vertical-align: top;\n",
       "    }\n",
       "\n",
       "    .dataframe thead th {\n",
       "        text-align: right;\n",
       "    }\n",
       "</style>\n",
       "<table border=\"1\" class=\"dataframe\">\n",
       "  <thead>\n",
       "    <tr style=\"text-align: right;\">\n",
       "      <th></th>\n",
       "      <th>Age</th>\n",
       "      <th>Gender</th>\n",
       "      <th>SmokeStat</th>\n",
       "      <th>Calories</th>\n",
       "      <th>Fat</th>\n",
       "    </tr>\n",
       "  </thead>\n",
       "  <tbody>\n",
       "    <tr>\n",
       "      <th>0</th>\n",
       "      <td>48</td>\n",
       "      <td>2</td>\n",
       "      <td>2</td>\n",
       "      <td>1242.1</td>\n",
       "      <td>37.5</td>\n",
       "    </tr>\n",
       "    <tr>\n",
       "      <th>1</th>\n",
       "      <td>69</td>\n",
       "      <td>1</td>\n",
       "      <td>2</td>\n",
       "      <td>1756.4</td>\n",
       "      <td>82.3</td>\n",
       "    </tr>\n",
       "    <tr>\n",
       "      <th>2</th>\n",
       "      <td>37</td>\n",
       "      <td>2</td>\n",
       "      <td>1</td>\n",
       "      <td>2094.5</td>\n",
       "      <td>78.9</td>\n",
       "    </tr>\n",
       "    <tr>\n",
       "      <th>3</th>\n",
       "      <td>73</td>\n",
       "      <td>2</td>\n",
       "      <td>2</td>\n",
       "      <td>853.1</td>\n",
       "      <td>29.8</td>\n",
       "    </tr>\n",
       "    <tr>\n",
       "      <th>4</th>\n",
       "      <td>45</td>\n",
       "      <td>2</td>\n",
       "      <td>1</td>\n",
       "      <td>1627.0</td>\n",
       "      <td>77.4</td>\n",
       "    </tr>\n",
       "  </tbody>\n",
       "</table>\n",
       "</div>"
      ],
      "text/plain": [
       "   Age  Gender  SmokeStat  Calories   Fat\n",
       "0   48       2          2    1242.1  37.5\n",
       "1   69       1          2    1756.4  82.3\n",
       "2   37       2          1    2094.5  78.9\n",
       "3   73       2          2     853.1  29.8\n",
       "4   45       2          1    1627.0  77.4"
      ]
     },
     "execution_count": 2,
     "metadata": {},
     "output_type": "execute_result"
    }
   ],
   "source": [
    "import pandas as pd\n",
    "cancer = pd.read_csv(\"C:/Users/zmdel/Documents/Cancer.csv\")\n",
    "\n",
    "cancer.head()"
   ]
  },
  {
   "cell_type": "code",
   "execution_count": 3,
   "metadata": {},
   "outputs": [
    {
     "name": "stdout",
     "output_type": "stream",
     "text": [
      "count    315.00\n",
      "mean      50.15\n",
      "std       14.58\n",
      "min       19.00\n",
      "25%       39.00\n",
      "50%       48.00\n",
      "75%       62.50\n",
      "max       83.00\n",
      "Name: Age, dtype: float64\n",
      "count     315.00\n",
      "mean     1796.65\n",
      "std       680.35\n",
      "min       445.20\n",
      "25%      1338.00\n",
      "50%      1666.80\n",
      "75%      2100.45\n",
      "max      6662.20\n",
      "Name: Calories, dtype: float64\n",
      "count    315.00\n",
      "mean      77.03\n",
      "std       33.83\n",
      "min       14.40\n",
      "25%       53.95\n",
      "50%       72.90\n",
      "75%       95.25\n",
      "max      235.90\n",
      "Name: Fat, dtype: float64\n"
     ]
    }
   ],
   "source": [
    "print(round(cancer['Age'].describe(),2))\n",
    "print(round(cancer['Calories'].describe(),2))\n",
    "print(round(cancer['Fat'].describe(),2))"
   ]
  },
  {
   "cell_type": "code",
   "execution_count": 15,
   "metadata": {},
   "outputs": [
    {
     "name": "stdout",
     "output_type": "stream",
     "text": [
      "Age range is  64\n",
      "Calories range is  6217.0\n",
      "Fat range is  221.5\n"
     ]
    }
   ],
   "source": [
    "import numpy as np\n",
    "agemin = cancer['Age'].min()\n",
    "agemax = cancer['Age'].max()\n",
    "agerange = agemax - agemin\n",
    "\n",
    "calmin = cancer['Calories'].min()\n",
    "calmax = cancer['Calories'].max()\n",
    "calrange = calmax - calmin\n",
    "\n",
    "fatmin = cancer['Fat'].min()\n",
    "fatmax = cancer['Fat'].max()\n",
    "fatrange = fatmax - fatmin\n",
    "\n",
    "print(f'Age range is  {agerange}')\n",
    "print(f'Calories range is  {calrange}')\n",
    "print(f'Fat range is  {fatrange}')"
   ]
  },
  {
   "cell_type": "code",
   "execution_count": 3,
   "metadata": {},
   "outputs": [
    {
     "data": {
      "image/png": "[encoded data removed]",
      "text/plain": [
       "<Figure size 432x288 with 1 Axes>"
      ]
     },
     "metadata": {
      "needs_background": "light"
     },
     "output_type": "display_data"
    }
   ],
   "source": [
    "import matplotlib.pyplot as plt\n",
    "\n",
    "plt.boxplot(cancer['Age'], showmeans=True, vert=False)\n",
    "plt.xlabel(\"Age (in years)\")\n",
    "plt.ylabel(\"Frequency\")\n",
    "plt.title(\"Figure 1b: Boxplot for Age\")\n",
    "plt.show()"
   ]
  },
  {
   "cell_type": "code",
   "execution_count": 4,
   "metadata": {},
   "outputs": [
    {
     "data": {
      "image/png": "[encoded data removed]",
      "text/plain": [
       "<Figure size 432x288 with 1 Axes>"
      ]
     },
     "metadata": {
      "needs_background": "light"
     },
     "output_type": "display_data"
    }
   ],
   "source": [
    "import matplotlib.pyplot as plt\n",
    "\n",
    "plt.boxplot(cancer['Calories'], showmeans=True, vert=False)\n",
    "plt.xlabel(\"Calories\")\n",
    "plt.ylabel(\"Frequency\")\n",
    "plt.title(\"Figure 2b: Boxplot for Calories\")\n",
    "plt.show()"
   ]
  },
  {
   "cell_type": "code",
   "execution_count": 5,
   "metadata": {},
   "outputs": [
    {
     "data": {
      "image/png": "[encoded data removed]",
      "text/plain": [
       "<Figure size 432x288 with 1 Axes>"
      ]
     },
     "metadata": {
      "needs_background": "light"
     },
     "output_type": "display_data"
    }
   ],
   "source": [
    "import matplotlib.pyplot as plt\n",
    "\n",
    "plt.boxplot(cancer['Fat'], showmeans=True, vert=False)\n",
    "plt.xlabel(\"Fat\")\n",
    "plt.ylabel(\"Frequency\")\n",
    "plt.title(\"Figure 3b: Boxplot for Fat\")\n",
    "plt.show()"
   ]
  }
 ],
 "metadata": {
  "interpreter": {
   "hash": "fe44fef87f92f48a3a32707d0df204585f471652bc0ce87358a3ce712bc24db0"
  },
  "kernelspec": {
   "display_name": "Python 3.9.7 64-bit",
   "name": "python3"
  },
  "language_info": {
   "codemirror_mode": {
    "name": "ipython",
    "version": 3
   },
   "file_extension": ".py",
   "mimetype": "text/x-python",
   "name": "python",
   "nbconvert_exporter": "python",
   "pygments_lexer": "ipython3",
   "version": "3.9.7"
  }
 },
 "nbformat": 4,
 "nbformat_minor": 5
}
